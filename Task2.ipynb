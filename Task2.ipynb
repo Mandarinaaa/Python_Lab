{
 "cells": [
  {
   "cell_type": "markdown",
   "id": "bb4e3041",
   "metadata": {},
   "source": [
    "## Задание №1\n",
    "Массив A состоит из целых положительных чисел длин отрезков. Составьте из трех отрезков такой треугольник, чтобы его периметр был максимально возможным. Если невозможно составить треугольник с положительной площадью функция возвращает 0."
   ]
  },
  {
   "cell_type": "code",
   "execution_count": 2,
   "id": "115f1cdd",
   "metadata": {},
   "outputs": [
    {
     "name": "stdout",
     "output_type": "stream",
     "text": [
      "5\n"
     ]
    }
   ],
   "source": [
    "arr = [2, 1, 2]\n",
    "maxPer = 0\n",
    "for i in range(len(arr) - 2):\n",
    "    for j in range(i+1, len(arr)-1):\n",
    "        for k in range(j+1, len(arr)):\n",
    "            a= arr[i]\n",
    "            b = arr[j]\n",
    "            c = arr[k]\n",
    "            if a < b + c and b < a + c and c < a + b:\n",
    "                maxPer = max(maxPer, a+b+c)\n",
    "print(maxPer)\n"
   ]
  },
  {
   "cell_type": "markdown",
   "id": "34cefffa",
   "metadata": {},
   "source": [
    "## Задание №2\n",
    "Дан массив неотрицательных целых чисел nums. Расположите их в таком порядке, чтобы вместе они образовали максимально возможное число. Замечание: Результат может быть очень большим числом, поэтому представьте его как string, а не integer."
   ]
  },
  {
   "cell_type": "code",
   "execution_count": 5,
   "id": "6aa3563e",
   "metadata": {},
   "outputs": [
    {
     "name": "stdout",
     "output_type": "stream",
     "text": [
      "343234323\n"
     ]
    }
   ],
   "source": [
    "class Sorted(str):\n",
    "    def __lt__(self, other):\n",
    "        return int(other + self) > int(self + other)\n",
    "\n",
    "arr = [34323, 3432]\n",
    "nums = [str(item) for item in arr]\n",
    "nums.sort(reverse = True, key = Sorted)\n",
    "print(''.join(nums))"
   ]
  },
  {
   "cell_type": "markdown",
   "id": "87c79a92",
   "metadata": {},
   "source": [
    "## Задание №3\n",
    "Дана матрица mat размером m * n, значения целочисленные. Напишите функцию, сортирующую каждую диагональ матрицы по возрастанию и возвращающую получившуюся матрицу."
   ]
  },
  {
   "cell_type": "code",
   "execution_count": 4,
   "id": "e09c39d0",
   "metadata": {},
   "outputs": [
    {
     "name": "stdout",
     "output_type": "stream",
     "text": [
      "[80, -26, 56, 15, -18]\n",
      "[-77, 60, -29, -5, -26]\n",
      "[-98, -80, -54, -80, 58]\n",
      "[-38, 59, -63, -89, 61]\n",
      "[99, -47, -46, 32, 87]\n",
      "result:\n",
      "[80, -26, 60, 15, 99]\n",
      "[-77, 56, -29, 59, -26]\n",
      "[-98, -38, -5, -47, 58]\n",
      "[-80, -18, -63, -46, 61]\n",
      "[-54, -80, -89, 32, 87]\n"
     ]
    }
   ],
   "source": [
    "import random\n",
    "m = 5\n",
    "n = 5\n",
    "arr = [[random.randint(-100, 100) for j in range(m)] for i in range(n)]\n",
    "for i in range(n):\n",
    "    print(arr[i])\n",
    "nums = [[] for i in range(m + n - 1)]\n",
    "\n",
    "for i in range(n):\n",
    "    for j in range(m):\n",
    "        nums[i + j].append(arr[i][j])\n",
    "        nums[i + j].sort(reverse = True)\n",
    "print('result:')\n",
    "\n",
    "\n",
    "\n",
    "arr = [[] for i in range(n)]\n",
    "for i in range(n):\n",
    "    for j in range(m):\n",
    "        arr[i].append(nums[i + j][0])\n",
    "        nums[i + j].pop(0)\n",
    "    print(arr[i])"
   ]
  },
  {
   "cell_type": "code",
   "execution_count": null,
   "id": "cba16490",
   "metadata": {},
   "outputs": [],
   "source": []
  }
 ],
 "metadata": {
  "kernelspec": {
   "display_name": "Python 3 (ipykernel)",
   "language": "python",
   "name": "python3"
  },
  "language_info": {
   "codemirror_mode": {
    "name": "ipython",
    "version": 3
   },
   "file_extension": ".py",
   "mimetype": "text/x-python",
   "name": "python",
   "nbconvert_exporter": "python",
   "pygments_lexer": "ipython3",
   "version": "3.10.2"
  }
 },
 "nbformat": 4,
 "nbformat_minor": 5
}
