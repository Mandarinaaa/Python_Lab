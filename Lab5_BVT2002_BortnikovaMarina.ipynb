{
 "cells": [
  {
   "cell_type": "markdown",
   "metadata": {
    "id": "WPvB9TcMmKA6"
   },
   "source": [
    "# Лабораторная работа №5\n",
    "# Рекурсия. Фракталы."
   ]
  },
  {
   "cell_type": "markdown",
   "metadata": {
    "id": "96Gi_LEvmSVH"
   },
   "source": [
    "## Выполнила студентка группы БВТ2002 Бортникова Марина\n",
    "***"
   ]
  },
  {
   "cell_type": "markdown",
   "metadata": {
    "id": "4clYOyb0mbEv"
   },
   "source": [
    "### Задание:\n",
    "Реализовать генерацию заданного типа фрактала с применением рекурсивных функций.\n",
    "\n",
    "\n",
    "Добавить возможность задания глубины фрактала. \n",
    "\n",
    "\n",
    "Оценить глубину рекурсии. \n",
    "\n",
    "\n",
    "Построить таблицу зависимости времени построения от глубины фрактала."
   ]
  },
  {
   "cell_type": "markdown",
   "metadata": {
    "id": "wDXHbUmMmhRL"
   },
   "source": [
    "### Список фракталов:\n",
    "\n",
    "Кривая Коха\n",
    "| Кривая Гильберта\n",
    "| Кривая Серпинского\n",
    "| Салфетка Серпинского\n",
    "| Ковер Серпинского\n",
    "| Дерево Пифагора "
   ]
  },
  {
   "cell_type": "markdown",
   "metadata": {
    "id": "Wggfn8l7nG72"
   },
   "source": [
    "### Выполнение:"
   ]
  },
  {
   "cell_type": "code",
   "execution_count": 1,
   "metadata": {},
   "outputs": [],
   "source": [
    "from turtle import *\n",
    "import turtle\n",
    "import time"
   ]
  },
  {
   "cell_type": "markdown",
   "metadata": {
    "id": "681a95mZnOSa"
   },
   "source": [
    "## Кривая Коха"
   ]
  },
  {
   "cell_type": "code",
   "execution_count": 4,
   "metadata": {},
   "outputs": [
    {
     "name": "stdout",
     "output_type": "stream",
     "text": [
      "time:  2.919124126434326 seconds\n"
     ]
    }
   ],
   "source": [
    "start_time = time.time()\n",
    "import turtle\n",
    "size = 500\n",
    "n = 3\n",
    "turtle.setworldcoordinates(-20, -200, 500, 500)\n",
    "turtle.speed(300)\n",
    "\n",
    "def koh(size, n):\n",
    "    if n == 0:\n",
    "        turtle.forward(size)\n",
    "    else:\n",
    "        koh(size / 3, n-1)\n",
    "        turtle.left(60)\n",
    "        koh(size /3, n-1)\n",
    "        turtle.right(120)\n",
    "        koh(size / 3, n-1)\n",
    "        turtle.left(60)\n",
    "        koh(size / 3, n-1)\n",
    "koh(size, n)\n",
    "print(\"time: \",\"%s seconds\" % (time.time() - start_time))\n",
    "turtle.done()"
   ]
  },
  {
   "cell_type": "markdown",
   "metadata": {},
   "source": [
    "## Кривая Гильберта"
   ]
  },
  {
   "cell_type": "code",
   "execution_count": 69,
   "metadata": {},
   "outputs": [
    {
     "name": "stdout",
     "output_type": "stream",
     "text": [
      "time:  2.529362678527832 seconds\n"
     ]
    }
   ],
   "source": [
    "start_time = time.time()\n",
    "import turtle\n",
    "size = 10\n",
    "angle = 90\n",
    "n = 3\n",
    "turtle.setworldcoordinates(-20, -200, 500, 500)\n",
    "turtle.speed(300)\n",
    "\n",
    "def hilbert(angle, n):\n",
    "    if n == 0:\n",
    "        return\n",
    "    else:\n",
    "        turtle.left(angle)\n",
    "        hilbert(-angle, n-1)\n",
    "        turtle.forward(size)\n",
    "        turtle.right(angle)\n",
    "        hilbert(angle,n-1)\n",
    "        turtle.forward(size)\n",
    "        hilbert(angle, n-1)\n",
    "        turtle.right(angle)\n",
    "        turtle.forward(size)\n",
    "        hilbert(-angle, n-1)\n",
    "        turtle.left(angle)\n",
    "        \n",
    "hilbert(angle, n)\n",
    "print(\"time: \",\"%s seconds\" % (time.time() - start_time))\n",
    "turtle.done()"
   ]
  },
  {
   "cell_type": "markdown",
   "metadata": {},
   "source": [
    "## Кривая Серпинского"
   ]
  },
  {
   "cell_type": "code",
   "execution_count": 95,
   "metadata": {},
   "outputs": [
    {
     "name": "stdout",
     "output_type": "stream",
     "text": [
      "time:  8.385181665420532 seconds\n"
     ]
    }
   ],
   "source": [
    "start_time = time.time()\n",
    "import turtle\n",
    "size = 5\n",
    "n = 3\n",
    "turtle.setworldcoordinates(-20, -500, 500, 500)\n",
    "turtle.speed(300)\n",
    "\n",
    "def serpinski(size, n):\n",
    "    if n == 0:\n",
    "        turtle.forward(size)\n",
    "    else:\n",
    "        serpinski(size,n-1)\n",
    "        turtle.left(45)\n",
    "        turtle.forward(size*(2)**0.5)\n",
    "        turtle.left(45)\n",
    "        serpinski(size,n-1)\n",
    "        turtle.right(90)\n",
    "        turtle.forward(size)\n",
    "        turtle.right(90)\n",
    "        serpinski(size,n-1)\n",
    "        turtle.left(45)\n",
    "        turtle.forward(size*(2)**0.5)\n",
    "        turtle.left(45)\n",
    "        serpinski(size,n-1)\n",
    "        \n",
    "def serpinski_full(size, n):\n",
    "    serpinski(size, n)\n",
    "    turtle.right(90)\n",
    "    turtle.forward(size)\n",
    "    turtle.right(90)\n",
    "    serpinski(size, n)\n",
    "    turtle.right(90)\n",
    "    turtle.forward(size)\n",
    "    turtle.right(90)\n",
    "    return\n",
    "        \n",
    "serpinski_full(size, n)\n",
    "print(\"time: \",\"%s seconds\" % (time.time() - start_time))\n",
    "turtle.done()"
   ]
  },
  {
   "cell_type": "markdown",
   "metadata": {},
   "source": [
    "## Салфетка Серпинского"
   ]
  },
  {
   "cell_type": "code",
   "execution_count": 93,
   "metadata": {},
   "outputs": [
    {
     "name": "stdout",
     "output_type": "stream",
     "text": [
      "time:  6.065777063369751 seconds\n"
     ]
    }
   ],
   "source": [
    "start_time = time.time()\n",
    "import turtle\n",
    "size = 100\n",
    "n = 4\n",
    "turtle.right(30)\n",
    "turtle.pu()\n",
    "turtle.ht()\n",
    "#turtle.setworldcoordinates(-20, -200, 500, 500)\n",
    "turtle.speed(300)\n",
    "turtle.shape('triangle')\n",
    "\n",
    "def serpinski_2(size, n):\n",
    "    if n == 0:\n",
    "        turtle.stamp()\n",
    "    else:\n",
    "        for i in range(0, 3):\n",
    "            turtle.forward(size)\n",
    "            serpinski_2(size/2, n-1)\n",
    "            turtle.backward(size)\n",
    "            turtle.left(120)\n",
    "\n",
    "serpinski_2(size, n)\n",
    "print(\"time: \",\"%s seconds\" % (time.time() - start_time))\n",
    "turtle.done()"
   ]
  },
  {
   "cell_type": "markdown",
   "metadata": {},
   "source": [
    "## Ковёр Серпинского"
   ]
  },
  {
   "cell_type": "code",
   "execution_count": 6,
   "metadata": {},
   "outputs": [
    {
     "name": "stdout",
     "output_type": "stream",
     "text": [
      "time:  2.9399302005767822 seconds\n"
     ]
    }
   ],
   "source": [
    "start_time = time.time()\n",
    "import turtle\n",
    "size = 100\n",
    "n = 3\n",
    "#turtle.setworldcoordinates(-20, -200, 500, 500)\n",
    "turtle.speed(300)\n",
    "\n",
    "def serpinski_3(size, n):\n",
    "    if n == 0:\n",
    "        turtle.color('black')\n",
    "        turtle.begin_fill()\n",
    "        for _ in range(4):\n",
    "            turtle.forward(size)\n",
    "            turtle.left(90)\n",
    "        turtle.end_fill()\n",
    "    else:\n",
    "        for _ in range(4):\n",
    "            serpinski_3(size/3,n-1)\n",
    "            turtle.forward(size/3)\n",
    "            serpinski_3(size/3,n-1)\n",
    "            turtle.forward(size/3)\n",
    "            turtle.forward(size/3)\n",
    "            turtle.left(90)\n",
    "        \n",
    "\n",
    "turtle.tracer(100)\n",
    "serpinski_3(size, n)\n",
    "print(\"time: \",\"%s seconds\" % (time.time() - start_time))\n",
    "turtle.done()"
   ]
  },
  {
   "cell_type": "markdown",
   "metadata": {},
   "source": [
    "## Дерево Пифагора"
   ]
  },
  {
   "cell_type": "code",
   "execution_count": 8,
   "metadata": {},
   "outputs": [
    {
     "ename": "Terminator",
     "evalue": "",
     "output_type": "error",
     "traceback": [
      "\u001b[1;31m---------------------------------------------------------------------------\u001b[0m",
      "\u001b[1;31mTerminator\u001b[0m                                Traceback (most recent call last)",
      "Input \u001b[1;32mIn [8]\u001b[0m, in \u001b[0;36m<module>\u001b[1;34m\u001b[0m\n\u001b[0;32m     14\u001b[0m         turtle\u001b[38;5;241m.\u001b[39mleft(\u001b[38;5;241m60\u001b[39m)\n\u001b[0;32m     15\u001b[0m         turtle\u001b[38;5;241m.\u001b[39mbackward(size)\n\u001b[1;32m---> 17\u001b[0m \u001b[43mtree\u001b[49m\u001b[43m(\u001b[49m\u001b[38;5;241;43m150\u001b[39;49m\u001b[43m)\u001b[49m\n\u001b[0;32m     18\u001b[0m turtle\u001b[38;5;241m.\u001b[39mdone()\n\u001b[0;32m     19\u001b[0m \u001b[38;5;28mprint\u001b[39m(\u001b[38;5;124m\"\u001b[39m\u001b[38;5;124mtime: \u001b[39m\u001b[38;5;124m\"\u001b[39m,\u001b[38;5;124m\"\u001b[39m\u001b[38;5;132;01m%s\u001b[39;00m\u001b[38;5;124m seconds\u001b[39m\u001b[38;5;124m\"\u001b[39m \u001b[38;5;241m%\u001b[39m (time\u001b[38;5;241m.\u001b[39mtime() \u001b[38;5;241m-\u001b[39m start_time))\n",
      "Input \u001b[1;32mIn [8]\u001b[0m, in \u001b[0;36mtree\u001b[1;34m(size)\u001b[0m\n\u001b[0;32m      9\u001b[0m turtle\u001b[38;5;241m.\u001b[39mforward(size)\n\u001b[0;32m     10\u001b[0m turtle\u001b[38;5;241m.\u001b[39mleft(\u001b[38;5;241m60\u001b[39m)\n\u001b[1;32m---> 11\u001b[0m \u001b[43mtree\u001b[49m\u001b[43m(\u001b[49m\u001b[43msize\u001b[49m\u001b[43m \u001b[49m\u001b[38;5;241;43m/\u001b[39;49m\u001b[43m \u001b[49m\u001b[38;5;241;43m1.6\u001b[39;49m\u001b[43m)\u001b[49m\n\u001b[0;32m     12\u001b[0m turtle\u001b[38;5;241m.\u001b[39mright(\u001b[38;5;241m120\u001b[39m)\n\u001b[0;32m     13\u001b[0m tree(size \u001b[38;5;241m/\u001b[39m \u001b[38;5;241m1.6\u001b[39m)\n",
      "Input \u001b[1;32mIn [8]\u001b[0m, in \u001b[0;36mtree\u001b[1;34m(size)\u001b[0m\n\u001b[0;32m      9\u001b[0m turtle\u001b[38;5;241m.\u001b[39mforward(size)\n\u001b[0;32m     10\u001b[0m turtle\u001b[38;5;241m.\u001b[39mleft(\u001b[38;5;241m60\u001b[39m)\n\u001b[1;32m---> 11\u001b[0m \u001b[43mtree\u001b[49m\u001b[43m(\u001b[49m\u001b[43msize\u001b[49m\u001b[43m \u001b[49m\u001b[38;5;241;43m/\u001b[39;49m\u001b[43m \u001b[49m\u001b[38;5;241;43m1.6\u001b[39;49m\u001b[43m)\u001b[49m\n\u001b[0;32m     12\u001b[0m turtle\u001b[38;5;241m.\u001b[39mright(\u001b[38;5;241m120\u001b[39m)\n\u001b[0;32m     13\u001b[0m tree(size \u001b[38;5;241m/\u001b[39m \u001b[38;5;241m1.6\u001b[39m)\n",
      "Input \u001b[1;32mIn [8]\u001b[0m, in \u001b[0;36mtree\u001b[1;34m(size)\u001b[0m\n\u001b[0;32m     11\u001b[0m tree(size \u001b[38;5;241m/\u001b[39m \u001b[38;5;241m1.6\u001b[39m)\n\u001b[0;32m     12\u001b[0m turtle\u001b[38;5;241m.\u001b[39mright(\u001b[38;5;241m120\u001b[39m)\n\u001b[1;32m---> 13\u001b[0m \u001b[43mtree\u001b[49m\u001b[43m(\u001b[49m\u001b[43msize\u001b[49m\u001b[43m \u001b[49m\u001b[38;5;241;43m/\u001b[39;49m\u001b[43m \u001b[49m\u001b[38;5;241;43m1.6\u001b[39;49m\u001b[43m)\u001b[49m\n\u001b[0;32m     14\u001b[0m turtle\u001b[38;5;241m.\u001b[39mleft(\u001b[38;5;241m60\u001b[39m)\n\u001b[0;32m     15\u001b[0m turtle\u001b[38;5;241m.\u001b[39mbackward(size)\n",
      "Input \u001b[1;32mIn [8]\u001b[0m, in \u001b[0;36mtree\u001b[1;34m(size)\u001b[0m\n\u001b[0;32m     11\u001b[0m tree(size \u001b[38;5;241m/\u001b[39m \u001b[38;5;241m1.6\u001b[39m)\n\u001b[0;32m     12\u001b[0m turtle\u001b[38;5;241m.\u001b[39mright(\u001b[38;5;241m120\u001b[39m)\n\u001b[1;32m---> 13\u001b[0m \u001b[43mtree\u001b[49m\u001b[43m(\u001b[49m\u001b[43msize\u001b[49m\u001b[43m \u001b[49m\u001b[38;5;241;43m/\u001b[39;49m\u001b[43m \u001b[49m\u001b[38;5;241;43m1.6\u001b[39;49m\u001b[43m)\u001b[49m\n\u001b[0;32m     14\u001b[0m turtle\u001b[38;5;241m.\u001b[39mleft(\u001b[38;5;241m60\u001b[39m)\n\u001b[0;32m     15\u001b[0m turtle\u001b[38;5;241m.\u001b[39mbackward(size)\n",
      "    \u001b[1;31m[... skipping similar frames: tree at line 13 (2 times)]\u001b[0m\n",
      "Input \u001b[1;32mIn [8]\u001b[0m, in \u001b[0;36mtree\u001b[1;34m(size)\u001b[0m\n\u001b[0;32m     11\u001b[0m tree(size \u001b[38;5;241m/\u001b[39m \u001b[38;5;241m1.6\u001b[39m)\n\u001b[0;32m     12\u001b[0m turtle\u001b[38;5;241m.\u001b[39mright(\u001b[38;5;241m120\u001b[39m)\n\u001b[1;32m---> 13\u001b[0m \u001b[43mtree\u001b[49m\u001b[43m(\u001b[49m\u001b[43msize\u001b[49m\u001b[43m \u001b[49m\u001b[38;5;241;43m/\u001b[39;49m\u001b[43m \u001b[49m\u001b[38;5;241;43m1.6\u001b[39;49m\u001b[43m)\u001b[49m\n\u001b[0;32m     14\u001b[0m turtle\u001b[38;5;241m.\u001b[39mleft(\u001b[38;5;241m60\u001b[39m)\n\u001b[0;32m     15\u001b[0m turtle\u001b[38;5;241m.\u001b[39mbackward(size)\n",
      "Input \u001b[1;32mIn [8]\u001b[0m, in \u001b[0;36mtree\u001b[1;34m(size)\u001b[0m\n\u001b[0;32m      8\u001b[0m \u001b[38;5;28;01mif\u001b[39;00m size \u001b[38;5;241m>\u001b[39m \u001b[38;5;241m5\u001b[39m:\n\u001b[0;32m      9\u001b[0m    turtle\u001b[38;5;241m.\u001b[39mforward(size)\n\u001b[1;32m---> 10\u001b[0m    \u001b[43mturtle\u001b[49m\u001b[38;5;241;43m.\u001b[39;49m\u001b[43mleft\u001b[49m\u001b[43m(\u001b[49m\u001b[38;5;241;43m60\u001b[39;49m\u001b[43m)\u001b[49m\n\u001b[0;32m     11\u001b[0m    tree(size \u001b[38;5;241m/\u001b[39m \u001b[38;5;241m1.6\u001b[39m)\n\u001b[0;32m     12\u001b[0m    turtle\u001b[38;5;241m.\u001b[39mright(\u001b[38;5;241m120\u001b[39m)\n",
      "File \u001b[1;32m<string>:5\u001b[0m, in \u001b[0;36mleft\u001b[1;34m(angle)\u001b[0m\n",
      "\u001b[1;31mTerminator\u001b[0m: "
     ]
    }
   ],
   "source": [
    "start_time = time.time()\n",
    "import turtle\n",
    "#turtle.setworldcoordinates(-20, -200, 500, 500)\n",
    "turtle.speed(300)\n",
    "turtle.left(90)\n",
    "\n",
    "def tree(size):\n",
    "     if size > 5:\n",
    "        turtle.forward(size)\n",
    "        turtle.left(60)\n",
    "        tree(size / 1.6)\n",
    "        turtle.right(120)\n",
    "        tree(size / 1.6)\n",
    "        turtle.left(60)\n",
    "        turtle.backward(size)\n",
    "        \n",
    "tree(150)\n",
    "turtle.done()\n",
    "print(\"time: \",\"%s seconds\" % (time.time() - start_time))"
   ]
  },
  {
   "cell_type": "markdown",
   "metadata": {
    "id": "diOb-K7LnO5a"
   },
   "source": [
    "### Вывод"
   ]
  },
  {
   "cell_type": "code",
   "execution_count": null,
   "metadata": {},
   "outputs": [],
   "source": [
    "### Таблица зависимости времени построения от глубины Кривой Коха:\n",
    "#глубина 0 - 0.24 seconds\n",
    "#глубина 1 - 0.39 seconds\n",
    "#глубина 2 - 0.75 seconds\n",
    "#глубина 3 - 2.34 seconds\n",
    "#глубина 4 - 8.28 seconds\n",
    "#глубина 5 - 32.77 seconds\n",
    "\n",
    "### Таблица зависимости времени построения от глубины Кривой Гильберта:\n",
    "#глубина 0 - 0.21 seconds\n",
    "#глубина 1 - 0.31 seconds\n",
    "#глубина 2 - 0.75 seconds\n",
    "#глубина 3 - 2.51 seconds\n",
    "#глубина 4 - 9.62 seconds\n",
    "#глубина 5 - 38.36 seconds\n",
    "\n",
    "### Таблица зависимости времени построения от глубины Кривой Серпинского:\n",
    "#глубина 0 - 0.34 seconds\n",
    "#глубина 1 - 0.71 seconds\n",
    "#глубина 2 - 2.21 seconds\n",
    "#глубина 3 - 8.48 seconds\n",
    "#глубина 4 - 32.94 seconds\n",
    "#глубина 5 - 133.47 seconds\n",
    "\n",
    "### Таблица зависимости времени построения от глубины Салфетки Серпинского:\n",
    "#глубина 0 - 0.34 seconds\n",
    "#глубина 1 - 0.51 seconds\n",
    "#глубина 2 - 0.91 seconds\n",
    "#глубина 3 - 2.167 seconds\n",
    "#глубина 4 - 6.12 seconds\n",
    "#глубина 5 - 18.84 seconds\n",
    "\n",
    "### Таблица зависимости времени построения от глубины Ковра серпинского:\n",
    "#глубина 0 - 0.36 seconds\n",
    "#глубина 1 - 1.97 seconds\n",
    "#глубина 2 - 18.02seconds\n",
    "#глубина 3 - 152.97 seconds"
   ]
  }
 ],
 "metadata": {
  "colab": {
   "collapsed_sections": [],
   "name": "Lab5.ipynb",
   "provenance": []
  },
  "kernelspec": {
   "display_name": "Python 3 (ipykernel)",
   "language": "python",
   "name": "python3"
  },
  "language_info": {
   "codemirror_mode": {
    "name": "ipython",
    "version": 3
   },
   "file_extension": ".py",
   "mimetype": "text/x-python",
   "name": "python",
   "nbconvert_exporter": "python",
   "pygments_lexer": "ipython3",
   "version": "3.10.2"
  }
 },
 "nbformat": 4,
 "nbformat_minor": 1
}
