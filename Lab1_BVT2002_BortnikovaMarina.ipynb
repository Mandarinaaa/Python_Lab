{
 "cells": [
  {
   "cell_type": "markdown",
   "id": "7f6e0ed2",
   "metadata": {},
   "source": [
    "## Лабораторная работа №1\n",
    "## Выполнила студентка группы БВТ2002 Бортникова Марина\n",
    "## Задание №1"
   ]
  },
  {
   "cell_type": "code",
   "execution_count": 56,
   "id": "8b8ac50c",
   "metadata": {},
   "outputs": [
    {
     "name": "stdout",
     "output_type": "stream",
     "text": [
      "Hello, World\n"
     ]
    }
   ],
   "source": [
    "print(\"Hello, World\")"
   ]
  },
  {
   "cell_type": "markdown",
   "id": "2f49a617",
   "metadata": {},
   "source": [
    "# Задание №2\n",
    "Написать генератор случайных матриц(многомерных), который принимает опциональные параметры m, n, min_limit, max_limit, где m и n\n",
    "указывают размер матрицы, а min_nim и max_lim - минимальное и максимальное значение для генерируемого числа."
   ]
  },
  {
   "cell_type": "code",
   "execution_count": 1,
   "id": "9b6ae026",
   "metadata": {
    "scrolled": true
   },
   "outputs": [
    {
     "data": {
      "text/plain": [
       "[[1, 8, 6, -10, 0],\n",
       " [1, -8, -2, -4, 1],\n",
       " [2, -1, 10, -3, -9],\n",
       " [3, 1, 5, -7, -5],\n",
       " [0, -10, -8, 4, -10]]"
      ]
     },
     "execution_count": 1,
     "metadata": {},
     "output_type": "execute_result"
    }
   ],
   "source": [
    "import random\n",
    "def gen_rand_matrix(n=50,m=50,min_limit=-250,max_limit=1001):\n",
    "    \n",
    "    a=[]\n",
    "    for i in range(n):\n",
    "        t=[]\n",
    "        for j in range(m):\n",
    "            t.append(random.randint(min_limit,max_limit))\n",
    "        a.append(t)\n",
    "    return (a)\n",
    "    \n",
    "gen_rand_matrix (5,5,-10,10)"
   ]
  },
  {
   "cell_type": "code",
   "execution_count": 2,
   "id": "3077b4dd",
   "metadata": {},
   "outputs": [],
   "source": [
    "import time\n",
    "def time_it(func):\n",
    "    def wrapper(*args, **kwargs):\n",
    "        time_now = time.time()\n",
    "        res = func(*args,**kwargs)\n",
    "        print(round(time.time()-time_now,2),'seconds')\n",
    "        return res\n",
    "    return wrapper"
   ]
  },
  {
   "cell_type": "markdown",
   "id": "5b5521fc",
   "metadata": {},
   "source": [
    "# Задание №3\n",
    "Реализовать методы сортировки строк числовой матрицы в соответствии с заданием. Оценить время работы каждого алгоритма\n",
    "сортировки и сравнить его со временем стандартной функции сортировки. Испытания проводить на сгенерированных матрицах."
   ]
  },
  {
   "cell_type": "markdown",
   "id": "0b4ecfe0",
   "metadata": {},
   "source": [
    "# Сортировка выбором"
   ]
  },
  {
   "cell_type": "code",
   "execution_count": 16,
   "id": "fd7825a4",
   "metadata": {},
   "outputs": [],
   "source": [
    "@time_it\n",
    "def selection_sort(result):\n",
    "    res = []\n",
    "    #print (result)\n",
    "    for k in result:\n",
    "\n",
    "        arr = k\n",
    "        for i in range (len(k)-1):\n",
    "            min_value = arr[i]\n",
    "            p=i\n",
    "            for j in range (i+1, len(k)):\n",
    "                if arr[j] < min_value:\n",
    "                    min_value = arr[j]\n",
    "                    p=j\n",
    "            arr[p], arr[i] = arr[i], arr[p]\n",
    "        res.append(arr)\n",
    "    return res\n",
    "        # print (arr)\n",
    "\n",
    "#selection_sort(a)"
   ]
  },
  {
   "cell_type": "markdown",
   "id": "b2eeee51",
   "metadata": {},
   "source": [
    "# Сортировка вставкой"
   ]
  },
  {
   "cell_type": "code",
   "execution_count": 17,
   "id": "7d7b7ebd",
   "metadata": {},
   "outputs": [],
   "source": [
    "@time_it\n",
    "def insert_sort(result):\n",
    "    # print (result)\n",
    "    res = []\n",
    "    for k in result:\n",
    "        arr = k\n",
    "        for i in range (1, len(k)):\n",
    "            current_value = arr[i]\n",
    "            current_position = i\n",
    "            while (current_position>0) and (current_value < arr[current_position-1]):\n",
    "                arr[current_position] = arr[current_position-1]\n",
    "                current_position -= 1\n",
    "            arr[current_position] = current_value\n",
    "        res.append(arr)\n",
    "    return res\n",
    "        # print (arr)\n",
    "\n",
    "#insert_sort(a)\n"
   ]
  },
  {
   "cell_type": "markdown",
   "id": "8f7ccfed",
   "metadata": {},
   "source": [
    "# Сортировка обменом"
   ]
  },
  {
   "cell_type": "code",
   "execution_count": 18,
   "id": "030ba357",
   "metadata": {},
   "outputs": [],
   "source": [
    "@time_it\n",
    "def buble_sort(result):\n",
    "    # print (result)\n",
    "    res=[]\n",
    "    for k in result:\n",
    "        arr = k\n",
    "        buble = len(k)\n",
    "        while buble > 1:\n",
    "            for i in range(buble-1):\n",
    "                if arr[i] > arr[i+1]:\n",
    "                    arr[i], arr[i+1] = arr[i+1],arr[i]\n",
    "            buble -= 1\n",
    "        res.append(arr)\n",
    "    return res\n",
    "        # print (arr)\n",
    "#buble_sort(a)"
   ]
  },
  {
   "cell_type": "markdown",
   "id": "0a2d892d",
   "metadata": {},
   "source": [
    "# Сортировка Шелла"
   ]
  },
  {
   "cell_type": "code",
   "execution_count": 19,
   "id": "db488699",
   "metadata": {},
   "outputs": [],
   "source": [
    "@time_it\n",
    "def shell_sort(result):\n",
    "    res=[]\n",
    "    # print (result)\n",
    "    for k in result:\n",
    "        arr = k\n",
    "\n",
    "        diapason = len(k)//2\n",
    "        while diapason > 0:\n",
    "            for i in range(diapason, len(k)):\n",
    "                current_value = arr[i]\n",
    "                position = i\n",
    "                while position >= diapason and arr[position-diapason] > current_value:\n",
    "                    arr[position] = arr[position-diapason]\n",
    "                    position -= diapason\n",
    "                    arr[position] = current_value\n",
    "\n",
    "\n",
    "            diapason //= 2\n",
    "        res.append(arr)\n",
    "    return res\n",
    "#shell_sort(a)"
   ]
  },
  {
   "cell_type": "markdown",
   "id": "08b681c3",
   "metadata": {},
   "source": [
    "# Турнирная сортировка"
   ]
  },
  {
   "cell_type": "code",
   "execution_count": 20,
   "id": "2728833e",
   "metadata": {},
   "outputs": [],
   "source": [
    "import heapq\n",
    "from queue import Queue\n",
    "\n",
    "def turnir_sort(arr):\n",
    "\n",
    "    queue_ = Queue()\n",
    "    for element in arr:\n",
    "        queue_.put(element)\n",
    "    winners = []\n",
    "    losers = []\n",
    "    mini_heap = []\n",
    "    for i in range(min(7, len(arr))):\n",
    "        mini_heap.append(queue_.get())\n",
    "    heapq.heapify(mini_heap)\n",
    "    while mini_heap:\n",
    "        heap_min = heapq.heappop(mini_heap)\n",
    "        if not winners or heap_min >= winners[-1]:\n",
    "            winners.append(heap_min)\n",
    "        else:\n",
    "            losers.append(heap_min)\n",
    "        if not queue_.empty():\n",
    "            heapq.heappush(mini_heap, queue_.get())\n",
    "    if losers:\n",
    "        return turnir_sort(losers + winners)\n",
    "    return losers + winners\n",
    "\n",
    "@time_it\n",
    "def sort_tournament(result):\n",
    "    #print (resultФ\n",
    "    arr = []\n",
    "    for k in result:\n",
    "        # print(type(k))\n",
    "        arr.append(turnir_sort(k.copy()))\n",
    "        #print(turnir_sort(arr))\n",
    "    return arr\n",
    "\n",
    "#sort_tournament(a)"
   ]
  },
  {
   "cell_type": "markdown",
   "id": "2292c172",
   "metadata": {},
   "source": [
    "# Быстрая сортировка"
   ]
  },
  {
   "cell_type": "code",
   "execution_count": 21,
   "id": "e1075d49",
   "metadata": {},
   "outputs": [],
   "source": [
    "def quick1_sort (arr):\n",
    "    if len(arr) <= 1:\n",
    "        return arr\n",
    "\n",
    "    elem = arr[0]\n",
    "    left = list(filter(lambda x: x < elem, arr))\n",
    "    center = [i for i in arr if i == elem]\n",
    "    right = list(filter(lambda x: x > elem, arr))\n",
    "\n",
    "    return quick1_sort(left) + center + quick1_sort(right)\n",
    "\n",
    "@time_it\n",
    "def quick_sort(result):\n",
    "    #print (result)\n",
    "    arr=[]\n",
    "    for k in result:\n",
    "        arr.append(quick1_sort(k))\n",
    "        #print(quick1_sort(arr))\n",
    "    return arr\n",
    "#quick_sort(a)"
   ]
  },
  {
   "cell_type": "markdown",
   "id": "99cddc06",
   "metadata": {},
   "source": [
    "# Сортировка Кучей"
   ]
  },
  {
   "cell_type": "code",
   "execution_count": 4,
   "id": "19636d74",
   "metadata": {},
   "outputs": [
    {
     "ename": "IndentationError",
     "evalue": "unexpected indent (3019794710.py, line 33)",
     "output_type": "error",
     "traceback": [
      "\u001b[1;36m  Input \u001b[1;32mIn [4]\u001b[1;36m\u001b[0m\n\u001b[1;33m    print(arr)\u001b[0m\n\u001b[1;37m    ^\u001b[0m\n\u001b[1;31mIndentationError\u001b[0m\u001b[1;31m:\u001b[0m unexpected indent\n"
     ]
    }
   ],
   "source": [
    "@time_it\n",
    "def heap_sort(result):\n",
    "    #print (result)\n",
    "    res=[]\n",
    "    for k in result:\n",
    "        arr = k\n",
    "        length = len(arr)\n",
    "\n",
    "        def swap_items(index1, index2): # меняем местами два элемента\n",
    "            if arr[index1] < arr[index2]:\n",
    "                arr[index1], arr[index2] = arr[index2], arr[index1]\n",
    "\n",
    "        def max_find (parent, limit): #ищем максимальный среди родителей и потомков\n",
    "\n",
    "            while True:\n",
    "                child = parent * 2 + 2\n",
    "                if child < limit:\n",
    "                    if arr[child] < arr[child - 1]:\n",
    "                        child -= 1\n",
    "                    swap_items(parent, child)\n",
    "                    parent = child\n",
    "                else:\n",
    "                    break\n",
    "\n",
    "        for index in range(int(length // 2) - 1, -1, -1): # формируем первое дерево\n",
    "            max_find(index, length)\n",
    "\n",
    "        for index in range(length - 1, 0, -1): #выносим максимальный назад и ставим минимум на свое место\n",
    "            swap_items(index, 0)\n",
    "            max_find(0, index)\n",
    "        res.append(arr)\n",
    "    return res\n",
    "        #print(arr)\n",
    "\n",
    "#heap_sort(a)\n"
   ]
  },
  {
   "cell_type": "markdown",
   "id": "d358ca0e",
   "metadata": {},
   "source": [
    "# Встроенная сортировка"
   ]
  },
  {
   "cell_type": "code",
   "execution_count": 23,
   "id": "be876e89",
   "metadata": {},
   "outputs": [],
   "source": [
    "@time_it\n",
    "def default_sort(result):\n",
    "    #print (result)\n",
    "    res = []\n",
    "    for k in result:\n",
    "        arr = k\n",
    "        mass = sorted(arr)\n",
    "        res.append(mass)\n",
    "        #print(res)\n",
    "    return res\n"
   ]
  },
  {
   "cell_type": "markdown",
   "id": "7f0e0927",
   "metadata": {},
   "source": [
    "# Результаты"
   ]
  },
  {
   "cell_type": "code",
   "execution_count": 24,
   "id": "f6ca36b3",
   "metadata": {},
   "outputs": [
    {
     "name": "stdout",
     "output_type": "stream",
     "text": [
      "Сортировка Шелла: 4.35 seconds\n",
      "Сортировка обменом: 137.54 seconds\n",
      "Сортировка вставками: 69.31 seconds\n",
      "Сортировка выбором: 46.5 seconds\n",
      "Турнирная сортировка: 473.04 seconds\n",
      "Быстрая сортировка: 5.34 seconds\n",
      "Сортировка кучей: 6.14 seconds\n",
      "Встроенная сортировка: 0.19 seconds\n"
     ]
    }
   ],
   "source": [
    "import copy\n",
    "\n",
    "result1 = gen_rand_matrix(1000,1000)\n",
    "print ('Сортировка Шелла:', end=' ')\n",
    "a=shell_sort(copy.deepcopy(result1))\n",
    "print ('Сортировка обменом:', end=' ')\n",
    "b=buble_sort(copy.deepcopy(result1))\n",
    "print ('Сортировка вставками:', end=' ')\n",
    "c=insert_sort(copy.deepcopy(result1))\n",
    "print ('Сортировка выбором:', end=' ')\n",
    "d=selection_sort(copy.deepcopy(result1))\n",
    "print ('Турнирная сортировка:', end=' ')\n",
    "e=sort_tournament(copy.deepcopy(result1))\n",
    "print ('Быстрая сортировка:', end=' ')\n",
    "f=quick_sort(copy.deepcopy(result1))\n",
    "print ('Сортировка кучей:', end=' ')\n",
    "g=heap_sort(copy.deepcopy(result1))\n",
    "print ('Встроенная сортировка:', end=' ')\n",
    "h=default_sort(copy.deepcopy(result1))\n",
    "for i in range(100):\n",
    "    for j in range(100):\n",
    "        if a[i][j] == b[i][j] and a[i][j] == c[i][j] and a[i][j] == d[i][j] and a[i][j] == e[i][j] and a[i][j] == f[i][j] and a[i][j] == g[i][j]:\n",
    "            pass\n",
    "        else:\n",
    "            print('ploho') # no vse horosho :)"
   ]
  },
  {
   "cell_type": "markdown",
   "id": "c2793668",
   "metadata": {},
   "source": [
    "# Вывод\n",
    "Самой быстрой сортировкой оказалась Встроенная сортировка;\n",
    "Самой медленной сортировкой оказалась Турнирная сортировка."
   ]
  }
 ],
 "metadata": {
  "kernelspec": {
   "display_name": "Python 3 (ipykernel)",
   "language": "python",
   "name": "python3"
  },
  "language_info": {
   "codemirror_mode": {
    "name": "ipython",
    "version": 3
   },
   "file_extension": ".py",
   "mimetype": "text/x-python",
   "name": "python",
   "nbconvert_exporter": "python",
   "pygments_lexer": "ipython3",
   "version": "3.10.2"
  }
 },
 "nbformat": 4,
 "nbformat_minor": 5
}
