{
 "cells": [
  {
   "cell_type": "markdown",
   "metadata": {
    "id": "0z3KlfKDn4_K"
   },
   "source": [
    "# Лабораторная работа 6. \n",
    "# Сетевые алгоритмы. Динамические алгоритмы поиска путей.\n"
   ]
  },
  {
   "cell_type": "markdown",
   "metadata": {
    "id": "96Gi_LEvmSVH"
   },
   "source": [
    "## Выполнила студентка группы БВТ2002 Бортникова Марина\n",
    "***"
   ]
  },
  {
   "cell_type": "markdown",
   "metadata": {
    "id": "GjdIp8aToKIe"
   },
   "source": [
    "### Задание\n",
    "\n",
    "1.  Реализовать алгоритм поиска кратчайшего расстояния между двумя вершинами ориентированного взвешенного графа в соответствии с вариантом. \n",
    "\n",
    "2.  Предусмотреть задание графа в виде матрицы смежности/инцидентности, читаемой из файла, либо графически с помощью пользовательского интерфейса. \n",
    "\n",
    "3.  Разработать графический интерфейс пользователя с визуализацией графа и отображением кратчайшего расстояния между задаваемыми пользователем вершинами.\n",
    "\n",
    "4. По результатам работы проанализировать временную сложность работы заданного алгоритма в зависимости от числа узлов и ребер графа.\n",
    "Данные представить в виде таблицы.\n",
    "\n"
   ]
  },
  {
   "cell_type": "markdown",
   "metadata": {
    "id": "LhhUXrAmotIA"
   },
   "source": [
    "### Алгоритмы:\n",
    "\n",
    "Алгоритм Флойда-Уоршелла| Алгоритм Дейкстры | Алгоритм Беллмана-Форда | Алгоритм Джонсона| Алгоритм Левита | Алгоритм Йена\n",
    "\n"
   ]
  },
  {
   "cell_type": "markdown",
   "metadata": {
    "id": "Wggfn8l7nG72"
   },
   "source": [
    "### Выполнение:"
   ]
  },
  {
   "cell_type": "code",
   "execution_count": 137,
   "metadata": {},
   "outputs": [],
   "source": [
    "import math\n",
    "from pyvis.network import Network\n",
    "import networkx as nx\n",
    "import matplotlib.pyplot as plt"
   ]
  },
  {
   "cell_type": "code",
   "execution_count": 150,
   "metadata": {},
   "outputs": [
    {
     "name": "stdout",
     "output_type": "stream",
     "text": [
      "[[0, 1000, 1000, 3, 1, 1000, 1000, 10], [2, 0, 4, 1000, 1000, 1000, 1000, 1000], [1000, 4, 0, 1000, 1000, 1000, 1000, 3], [3, 1000, 1000, 0, 1000, 1000, 1000, 8], [1, 1000, 1000, 1000, 0, 2, 1000, 1000], [1000, 1000, 1000, 1000, 2, 0, 3, 1000], [1000, 1000, 1000, 1000, 1000, 3, 0, 1], [10, 1000, 3, 8, 1000, 1000, 1, 0]]\n"
     ]
    }
   ],
   "source": [
    "matr = []\n",
    "\n",
    "with open('C:\\\\matrix2.txt') as fin:\n",
    "    for line in fin:\n",
    "        matr.append(list(map(int, line.split())))\n",
    "    \n",
    "print(matr)"
   ]
  },
  {
   "cell_type": "markdown",
   "metadata": {},
   "source": [
    "## Алгоритм Флойда-Уоршелла O(n^3)"
   ]
  },
  {
   "cell_type": "code",
   "execution_count": 153,
   "metadata": {},
   "outputs": [
    {
     "name": "stdout",
     "output_type": "stream",
     "text": [
      "[6, 5, 4, 0]\n",
      "6\n"
     ]
    },
    {
     "data": {
      "text/html": [
       "\n",
       "        <iframe\n",
       "            width=\"500px\"\n",
       "            height=\"500px\"\n",
       "            src=\"111.html\"\n",
       "            frameborder=\"0\"\n",
       "            allowfullscreen\n",
       "            \n",
       "        ></iframe>\n",
       "        "
      ],
      "text/plain": [
       "<IPython.lib.display.IFrame at 0x2565ea4f910>"
      ]
     },
     "execution_count": 153,
     "metadata": {},
     "output_type": "execute_result"
    }
   ],
   "source": [
    "from copy import deepcopy\n",
    "matrix = deepcopy(matr)\n",
    "#функция поиска промежуточных вершин\n",
    "def get_path(P, u, v):\n",
    "    path = [u]\n",
    "    while u != v:\n",
    "        u = P[u][v]\n",
    "        path.append(u)\n",
    "    return path\n",
    "\n",
    "P = [[v for v in range(len(matrix))] for u in range(len(matrix))] # начальный список предыдущих вершин для поиска кратчайшего маршрута\n",
    "\n",
    "for k in range (len(matrix)):\n",
    "    for i in range (len(matrix)):\n",
    "        for j in range (len(matrix)):\n",
    "            d = matrix[i][k] + matrix[k][j]\n",
    "            if matrix[i][j] > d:\n",
    "                matrix[i][j] = d\n",
    "                P[i][j] = k #номер промежуточной вершины при движении от i к j\n",
    "                \n",
    "# нумерация вершин начинается с нуля\n",
    "start = 0\n",
    "end = 6\n",
    "pathhh = get_path(P, end, start)\n",
    "print (pathhh)\n",
    "print (matrix[start][end])\n",
    "\n",
    "\n",
    "\n",
    "graph = nx.Graph()\n",
    "for k in range (len(matr)):\n",
    "    graph.add_node(k, size=20, group=2)\n",
    "    \n",
    "    \n",
    "for i in range (len(matr)):\n",
    "    for j in range (len(matr[i])):\n",
    "        if matr[i][j] != 0:\n",
    "            if matr[i][j] != 1000:\n",
    "                if (i in pathhh) and (j in pathhh):\n",
    "                    graph.add_edge(i,j, weight = matr[i][j], color = 'red')\n",
    "                else:\n",
    "                    graph.add_edge(i,j, weight = matr[i][j], color = 'blue')\n",
    "        \n",
    "graph.nodes[start]['color'] = 'red'\n",
    "graph.nodes[end]['color'] = 'red'\n",
    "\n",
    "\n",
    "    \n",
    "nt = Network('500px','500px', notebook = True)\n",
    "nt.from_nx(graph)\n",
    "nt.show('111.html')    \n"
   ]
  },
  {
   "cell_type": "markdown",
   "metadata": {},
   "source": [
    "## Алгоритм Дейкстры O(n^2)"
   ]
  },
  {
   "cell_type": "code",
   "execution_count": 148,
   "metadata": {
    "scrolled": false
   },
   "outputs": [
    {
     "name": "stdout",
     "output_type": "stream",
     "text": [
      "[1, 0, 3, 5]\n",
      "8\n"
     ]
    },
    {
     "data": {
      "text/html": [
       "\n",
       "        <iframe\n",
       "            width=\"500px\"\n",
       "            height=\"500px\"\n",
       "            src=\"111.html\"\n",
       "            frameborder=\"0\"\n",
       "            allowfullscreen\n",
       "            \n",
       "        ></iframe>\n",
       "        "
      ],
      "text/plain": [
       "<IPython.lib.display.IFrame at 0x2565ea4c2b0>"
      ]
     },
     "execution_count": 148,
     "metadata": {},
     "output_type": "execute_result"
    }
   ],
   "source": [
    "# функция перебора всех связных вершин\n",
    "def get_link(start_vertex,matr):\n",
    "    for i, weight in enumerate(matr[start_vertex]):\n",
    "        if weight > 0:\n",
    "            yield i\n",
    "\n",
    "\n",
    "# функция поиска наименьшей нерасмотренной вершины из last_str\n",
    "def arg_min(last_str, done_vertexes):\n",
    "    min_v = -1\n",
    "    max_v = max(last_str)\n",
    "    for i, t in enumerate(last_str):\n",
    "        if t < max_v and i not in done_vertexes:\n",
    "            max_v = t\n",
    "            min_v = i\n",
    "    return min_v\n",
    "\n",
    "\n",
    "\n",
    "last_str = [math.inf]*len(matr) # последняя строчка таблицы \n",
    "start_vertex = 1 #cтартовая вершина\n",
    "first_vertex = start_vertex\n",
    "done_vertexes = {start_vertex} # просмотренные вершины\n",
    "last_str[start_vertex] = 0 #вес стартовой вершины\n",
    "\n",
    "path = [[start_vertex] for i in range(len(matr))]\n",
    "\n",
    "finish_vertex = 5\n",
    "\n",
    "# просматриваем все вершины графа\n",
    "while start_vertex != -1:\n",
    "    for j in get_link(start_vertex, matr): #перебираем все вершины, связанные с start_vertex\n",
    "        if j not in done_vertexes:\n",
    "            qu_vertex = last_str[start_vertex]+matr[start_vertex][j]\n",
    "            if qu_vertex < last_str[j]:\n",
    "                path[j] = path[start_vertex] + [j]\n",
    "                last_str[j] = qu_vertex\n",
    "            \n",
    "    start_vertex = arg_min(last_str, done_vertexes)\n",
    "    if start_vertex >= 0:\n",
    "        done_vertexes.add(start_vertex)\n",
    "        \n",
    "print(path[finish_vertex])\n",
    "print(last_str[finish_vertex])\n",
    "\n",
    "\n",
    "\n",
    "\n",
    "graph = nx.Graph()\n",
    "\n",
    "for k in range (len(matr)):\n",
    "    graph.add_node(k, size=20, group=2)\n",
    "    \n",
    "    \n",
    "    \n",
    "for i in range (len(matr)):\n",
    "    for j in range (len(matr[i])):\n",
    "        if matr[i][j] != 0:\n",
    "            if matr[i][j] != 1000:\n",
    "                if (i in path[finish_vertex]) and (j in path[finish_vertex]):\n",
    "                    graph.add_edge(i,j, weight = matr[i][j], color = 'red')\n",
    "                else:\n",
    "                    graph.add_edge(i,j, weight = matr[i][j], color = 'blue')\n",
    "\n",
    "        \n",
    "graph.nodes[finish_vertex]['color'] = 'red'\n",
    "graph.nodes[first_vertex]['color'] = 'red'\n",
    "\n",
    "    \n",
    "nt = Network('500px','500px', notebook = True)\n",
    "nt.from_nx(graph)\n",
    "nt.show('111.html')  "
   ]
  },
  {
   "cell_type": "markdown",
   "metadata": {},
   "source": [
    "## Алгоритм Беллмана-Форда O(n*m)"
   ]
  },
  {
   "cell_type": "code",
   "execution_count": 149,
   "metadata": {},
   "outputs": [
    {
     "name": "stdout",
     "output_type": "stream",
     "text": [
      "Исходная матрица смежности\n",
      "[0, 3, 1, 3, 0, 0]\n",
      "[3, 0, 4, 0, 0, 0]\n",
      "[1, 4, 0, 0, 7, 5]\n",
      "[3, 0, 0, 0, 0, 2]\n",
      "[0, 0, 7, 0, 0, 4]\n",
      "[0, 0, 5, 2, 4, 0]\n",
      "**************************************************\n",
      "Минимальные расстояния 8\n",
      "**************************************************\n",
      "Маршруты из 0 вершины [0, 2, 4]\n"
     ]
    },
    {
     "data": {
      "text/html": [
       "\n",
       "        <iframe\n",
       "            width=\"500px\"\n",
       "            height=\"500px\"\n",
       "            src=\"111.html\"\n",
       "            frameborder=\"0\"\n",
       "            allowfullscreen\n",
       "            \n",
       "        ></iframe>\n",
       "        "
      ],
      "text/plain": [
       "<IPython.lib.display.IFrame at 0x2565e829f60>"
      ]
     },
     "execution_count": 149,
     "metadata": {},
     "output_type": "execute_result"
    }
   ],
   "source": [
    "source_index = 0  \n",
    "finish_vertex = 4\n",
    " \n",
    "path_lengths = [math.inf for _ in range(len(matr))]\n",
    "path_lengths[source_index] = 0\n",
    " \n",
    "path = [[source_index] for _ in range(len(matr))]   \n",
    "print('Исходная матрица смежности')\n",
    "for i in matr:\n",
    "    print(i)\n",
    "print('*' * 50)\n",
    "for _ in range(len(matr)):\n",
    "    for i in range(len(matr)):\n",
    "        for j in range(len(matr)):\n",
    "            if matr[i][j] != 0 and path_lengths[j] > path_lengths[i] + matr[i][j]:\n",
    "                path_lengths[j] =  path_lengths[i] + matr[i][j]\n",
    "                path[j] = path[i] + [j]\n",
    "print('Минимальные расстояния', path_lengths[finish_vertex])\n",
    "print('*' * 50)\n",
    "print(f'Маршруты из {source_index} вершины', path[finish_vertex])\n",
    "\n",
    "graph = nx.Graph()\n",
    "\n",
    "for k in range (len(matr)):\n",
    "    graph.add_node(k, size=20, group=2)\n",
    "    \n",
    "    \n",
    "    \n",
    "for i in range (len(matr)):\n",
    "    for j in range (len(matr[i])):\n",
    "        if matr[i][j] != 0:\n",
    "            if matr[i][j] != 1000:\n",
    "                if (i in path[finish_vertex]) and (j in path[finish_vertex]):\n",
    "                    graph.add_edge(i,j, weight = matr[i][j], color = 'red')\n",
    "                else:\n",
    "                    graph.add_edge(i,j, weight = matr[i][j], color = 'blue')\n",
    "\n",
    "        \n",
    "graph.nodes[finish_vertex]['color'] = 'red'\n",
    "graph.nodes[source_index]['color'] = 'red'\n",
    "\n",
    "    \n",
    "nt = Network('500px','500px', notebook = True)\n",
    "nt.from_nx(graph)\n",
    "nt.show('111.html')  "
   ]
  },
  {
   "cell_type": "markdown",
   "metadata": {},
   "source": [
    "### Алгоритм Джонсона"
   ]
  },
  {
   "cell_type": "code",
   "execution_count": 141,
   "metadata": {},
   "outputs": [
    {
     "name": "stdout",
     "output_type": "stream",
     "text": [
      "[6, 7, 2, 1]\n",
      "8\n"
     ]
    },
    {
     "data": {
      "text/html": [
       "\n",
       "        <iframe\n",
       "            width=\"500px\"\n",
       "            height=\"500px\"\n",
       "            src=\"111.html\"\n",
       "            frameborder=\"0\"\n",
       "            allowfullscreen\n",
       "            \n",
       "        ></iframe>\n",
       "        "
      ],
      "text/plain": [
       "<IPython.lib.display.IFrame at 0x2565fb5b460>"
      ]
     },
     "execution_count": 141,
     "metadata": {},
     "output_type": "execute_result"
    }
   ],
   "source": [
    "def relax(vertices, source, destination, edgecost, d, predecessor,edges):\n",
    "    y = 0\n",
    "    i = 0\n",
    "    z = 0\n",
    "    for x in edgecost:\n",
    "        z+=1\n",
    "    while i < int(vertices):\n",
    "        while y<int(z):\n",
    "            if d[int(source[y])] + edgecost[y] < d[int(destination[y])]:\n",
    "                d[int(destination[y])] = int(edgecost[y]) + d[int(source[y])]  \n",
    "                predecessor[int(destination[y])] = source[y]\n",
    "            y+=1\n",
    "        y=0\n",
    "        i+=1\n",
    "    return source, destination, edgecost, d, predecessor\n",
    "\n",
    "def reweight(vertices, source, destination, edgecost, d,edges):\n",
    "    y = 0\n",
    "    z = 0\n",
    "    for x in edgecost:\n",
    "        z+=1\n",
    "    while y<int(z)-1:\n",
    "        edgecost[y] = edgecost[y] + d[int(source[y])] - d[int(destination[y])]\n",
    "        y+=1\n",
    "    return source, destination, edgecost, d\n",
    "    \n",
    "\n",
    "\n",
    "\n",
    "def Dijkstra(vertexlist, sourcevertex,source,destination, edgecost,predecessor,edges,vertices):\n",
    "    u = 0\n",
    "    v = 0\n",
    "    alt = 0\n",
    "    count = 0\n",
    "    smallest = 9999999\n",
    "    newvertexlist = list()\n",
    "    newvertexlist.append(0)\n",
    "    for x in vertexlist:\n",
    "        newvertexlist.append(int(x))\n",
    "    dist = list()\n",
    "    previous = list()\n",
    "    Q = set(newvertexlist)\n",
    "    Q.remove(0)\n",
    "    for x in newvertexlist:\n",
    "        if int(x) == int(sourcevertex):\n",
    "            dist.append(0)\n",
    "        else:\n",
    "            dist.append(9999999)\n",
    "        previous.append('undefined')\n",
    "    while len(Q) != 0:\n",
    "        for y in Q:\n",
    "            if y != 0:\n",
    "                if dist[int(y)] < smallest:\n",
    "                    smallest = dist[y]\n",
    "                    u = y\n",
    "                if dist[y] == 999999:\n",
    "                    break\n",
    "        smallest = 9999999\n",
    "        Q.remove(u)\n",
    "        while(int(count)<int(edges)+1):\n",
    "            if(source[count] == u):\n",
    "                v = destination[count]\n",
    "                alt = dist[u] + edgecost[count]\n",
    "                if alt < dist[v]:\n",
    "                    dist[v] = alt\n",
    "                    previous[v] = u\n",
    "            count+=1\n",
    "        count = 0\n",
    "    print('Vertices:' + str(newvertexlist))\n",
    "    print('Previous:' + str(previous))\n",
    "    print('Cost:    ' + str(dist))\n",
    "    print()\n",
    "            \n",
    "        \n",
    "        \n",
    "        \n",
    "def Johnsons():\n",
    "    data = list()\n",
    "    source = list()\n",
    "    destination = list()\n",
    "    edgecost = list()\n",
    "    test = 0\n",
    "    vertices = 0\n",
    "    edges = 0\n",
    "    data = matr\n",
    "    vertexlist = list()\n",
    "    distance = list()\n",
    "    vertices, edges, source, destination, edgecost, vertexlist, distance = setdata(data)\n",
    "    predecessor = list()\n",
    "    d = list()\n",
    "    d, predecessor = intialize(distance)\n",
    "    #relaxation\n",
    "    source, destination, edgecost, d, predecessor = relax(vertices, source, destination, edgecost, d, predecessor,edges)\n",
    "    #change weights\n",
    "    vertexlist.reverse()\n",
    "    source, destination, edgecost, d = reweight(vertices, source, destination, edgecost, d,edges)\n",
    "    output(source, destination, edgecost)\n",
    "    for x in vertexlist:\n",
    "        print('Running Dijkstra on vertex ' + str(x))\n",
    "        Dijkstra(vertexlist,x,source, destination, edgecost, predecessor, edges,vertices)\n",
    "        \n",
    "print(Johnsons())\n",
    "\n",
    "\n",
    "\n",
    "graph = nx.Graph()\n",
    "for k in range (len(matr)):\n",
    "    graph.add_node(k, size=20, group=2)\n",
    "    \n",
    "    \n",
    "for i in range (len(matr)):\n",
    "    for j in range (len(matr[i])):\n",
    "        if matr[i][j] != 0:\n",
    "            if matr[i][j] != 1000:\n",
    "                if (i in pathhh) and (j in pathhh):\n",
    "                    graph.add_edge(i,j, weight = matr[i][j], color = 'red')\n",
    "                else:\n",
    "                    graph.add_edge(i,j, weight = matr[i][j], color = 'blue')\n",
    "        \n",
    "graph.nodes[start]['color'] = 'red'\n",
    "graph.nodes[end]['color'] = 'red'\n",
    "\n",
    "\n",
    "    \n",
    "nt = Network('500px','500px', notebook = True)\n",
    "nt.from_nx(graph)\n",
    "nt.show('111.html')    \n"
   ]
  },
  {
   "cell_type": "markdown",
   "metadata": {},
   "source": [
    "### Алгоритм Левита"
   ]
  },
  {
   "cell_type": "code",
   "execution_count": 142,
   "metadata": {},
   "outputs": [
    {
     "name": "stdout",
     "output_type": "stream",
     "text": [
      "[6, 7, 2]\n",
      "4\n"
     ]
    },
    {
     "data": {
      "text/html": [
       "\n",
       "        <iframe\n",
       "            width=\"500px\"\n",
       "            height=\"500px\"\n",
       "            src=\"111.html\"\n",
       "            frameborder=\"0\"\n",
       "            allowfullscreen\n",
       "            \n",
       "        ></iframe>\n",
       "        "
      ],
      "text/plain": [
       "<IPython.lib.display.IFrame at 0x2565fb5ebf0>"
      ]
     },
     "execution_count": 142,
     "metadata": {},
     "output_type": "execute_result"
    }
   ],
   "source": [
    "def levit(matr, start, end):\n",
    "    start -= 1\n",
    "    end -= 1\n",
    "    N = len(matr.nodes)\n",
    "    D = [math.inf for i in range(N)]\n",
    "    D[start] = 0\n",
    "    cache = deque([start])\n",
    "    state = [2 for i in range(N)]\n",
    "    state[start] = 1\n",
    "    P = [-1 for i in range(N)]\n",
    "    while cache:\n",
    "        vertex = cache.popleft()\n",
    "        state[vertex] = 0\n",
    "        for i in range(len(matr.neighbors(vertex+1))):\n",
    "            neigh = list(matr.neighbors(vertex+1))[i]-1\n",
    "            for j in range(len(matr.edges)):\n",
    "                if list(matr.edges)[j]['from'] == vertex+1 and list(matr.edges)[j]['to'] == neigh+1:\n",
    "                    weight = matr.edges[j]['weight']\n",
    "            if D[vertex] + weight < D[neigh]:\n",
    "                D[neigh] = D[vertex] + weight\n",
    "                if state[neigh] == 2:\n",
    "                    cache.append(neigh)\n",
    "                if state[neigh] == 0:\n",
    "                    cache.appendleft(neigh)\n",
    "                P[neigh] = vertex\n",
    "                state[neigh] = 1\n",
    "    path = []\n",
    "    vertex = end\n",
    "    while vertex != -1:\n",
    "        path.append(vertex+1)\n",
    "        vertex = P[vertex]\n",
    "    return path[::-1]\n",
    "\n",
    "print(levit(matr, 0, 5))\n",
    "\n",
    "\n",
    "\n",
    "graph = nx.Graph()\n",
    "for k in range (len(matr)):\n",
    "    graph.add_node(k, size=20, group=2)\n",
    "    \n",
    "    \n",
    "for i in range (len(matr)):\n",
    "    for j in range (len(matr[i])):\n",
    "        if matr[i][j] != 0:\n",
    "            if matr[i][j] != 1000:\n",
    "                if (i in pathhh) and (j in pathhh):\n",
    "                    graph.add_edge(i,j, weight = matr[i][j], color = 'red')\n",
    "                else:\n",
    "                    graph.add_edge(i,j, weight = matr[i][j], color = 'blue')\n",
    "        \n",
    "graph.nodes[start]['color'] = 'red'\n",
    "graph.nodes[end]['color'] = 'red'\n",
    "\n",
    "\n",
    "    \n",
    "nt = Network('500px','500px', notebook = True)\n",
    "nt.from_nx(graph)\n",
    "nt.show('111.html')    \n"
   ]
  },
  {
   "cell_type": "markdown",
   "metadata": {},
   "source": [
    "### Алгоритм Йена"
   ]
  },
  {
   "cell_type": "code",
   "execution_count": 145,
   "metadata": {},
   "outputs": [
    {
     "name": "stdout",
     "output_type": "stream",
     "text": [
      "[7, 3]\n",
      "8\n"
     ]
    },
    {
     "data": {
      "text/html": [
       "\n",
       "        <iframe\n",
       "            width=\"500px\"\n",
       "            height=\"500px\"\n",
       "            src=\"111.html\"\n",
       "            frameborder=\"0\"\n",
       "            allowfullscreen\n",
       "            \n",
       "        ></iframe>\n",
       "        "
      ],
      "text/plain": [
       "<IPython.lib.display.IFrame at 0x2565fb5a6b0>"
      ]
     },
     "execution_count": 145,
     "metadata": {},
     "output_type": "execute_result"
    }
   ],
   "source": [
    "def yen(G, start, end):\n",
    "    start -= 1\n",
    "    end -= 1\n",
    "    paths = [[] for i in range(total_paths)]\n",
    "    paths[0] = dijkstra(G, start+1, end+1)\n",
    "    for i in range(1,len(paths)):\n",
    "        edges = []\n",
    "        for j in range(len(G.edges)):\n",
    "            edges.append([list(G.edges)[j]['from'], list(G.edges)[j]['to']])\n",
    "        length = 0\n",
    "        for j in range(len(G.edges)):\n",
    "            if list(G.edges)[j]['from'] == paths[i-1][0] and list(G.edges)[j]['to'] == paths[i-1][1]:\n",
    "                length = list(G.edges)[j]['weight']\n",
    "        G = remove_edge(G, [paths[i-1][0], paths[i-1][1]])\n",
    "        paths[i] = dijkstra(G, start+1, end+1)\n",
    "        G.add_edge(paths[i-1][0], paths[i-1][1], weight=length)\n",
    "    return paths\n",
    "\n",
    "print (yen(matr, 0, 5))\n",
    "\n",
    "\n",
    "\n",
    "graph = nx.Graph()\n",
    "for k in range (len(matr)):\n",
    "    graph.add_node(k, size=20, group=2)\n",
    "    \n",
    "    \n",
    "for i in range (len(matr)):\n",
    "    for j in range (len(matr[i])):\n",
    "        if matr[i][j] != 0:\n",
    "            if matr[i][j] != 1000:\n",
    "                if (i in pathhh) and (j in pathhh):\n",
    "                    graph.add_edge(i,j, weight = matr[i][j], color = 'red')\n",
    "                else:\n",
    "                    graph.add_edge(i,j, weight = matr[i][j], color = 'blue')\n",
    "        \n",
    "graph.nodes[start]['color'] = 'red'\n",
    "graph.nodes[end]['color'] = 'red'\n",
    "\n",
    "\n",
    "    \n",
    "nt = Network('500px','500px', notebook = True)\n",
    "nt.from_nx(graph)\n",
    "nt.show('111.html')    \n"
   ]
  },
  {
   "cell_type": "markdown",
   "metadata": {
    "id": "diOb-K7LnO5a"
   },
   "source": [
    "### Вывод"
   ]
  },
  {
   "cell_type": "markdown",
   "metadata": {},
   "source": [
    "В ходе данной лабораторной работы были реализованы алгоритмы нахождения кратчайшего пути на графе и определены зависимости времени исполнения алгоритма от числа узлов и ребер графа:\n",
    "     Алгоритм         Сложность\n",
    "  Флойда-Уоршелла               o^3\n",
    "         Дейкстры               o^2\n",
    "   Беллмана-Форда       nodes*edges\n",
    "         Джонсона  nodes*edges*logV\n",
    "           Левита       nodes*edges\n",
    "             Йена               o^2"
   ]
  }
 ],
 "metadata": {
  "colab": {
   "name": "Lab6.ipynb",
   "provenance": []
  },
  "kernelspec": {
   "display_name": "Python 3 (ipykernel)",
   "language": "python",
   "name": "python3"
  },
  "language_info": {
   "codemirror_mode": {
    "name": "ipython",
    "version": 3
   },
   "file_extension": ".py",
   "mimetype": "text/x-python",
   "name": "python",
   "nbconvert_exporter": "python",
   "pygments_lexer": "ipython3",
   "version": "3.10.2"
  }
 },
 "nbformat": 4,
 "nbformat_minor": 1
}
